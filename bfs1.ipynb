{
 "cells": [
  {
   "cell_type": "code",
   "execution_count": 2,
   "metadata": {},
   "outputs": [
    {
     "ename": "KeyError",
     "evalue": "'н'",
     "output_type": "error",
     "traceback": [
      "\u001b[1;31m---------------------------------------------------------------------------\u001b[0m",
      "\u001b[1;31mKeyError\u001b[0m                                  Traceback (most recent call last)",
      "Cell \u001b[1;32mIn[2], line 38\u001b[0m\n\u001b[0;32m     35\u001b[0m mulai \u001b[38;5;241m=\u001b[39m \u001b[38;5;28minput\u001b[39m(\u001b[38;5;124m\"\u001b[39m\u001b[38;5;124mMasukkan awal : \u001b[39m\u001b[38;5;124m\"\u001b[39m)\n\u001b[0;32m     36\u001b[0m tujuan \u001b[38;5;241m=\u001b[39m \u001b[38;5;28minput\u001b[39m(\u001b[38;5;124m\"\u001b[39m\u001b[38;5;124mMasukkan akhir: \u001b[39m\u001b[38;5;124m\"\u001b[39m)\n\u001b[1;32m---> 38\u001b[0m \u001b[38;5;28mprint\u001b[39m(\u001b[43mbfs_lintasan_terpendek\u001b[49m\u001b[43m \u001b[49m\u001b[43m(\u001b[49m\u001b[43mpeta\u001b[49m\u001b[43m,\u001b[49m\u001b[43m \u001b[49m\u001b[43mmulai\u001b[49m\u001b[43m,\u001b[49m\u001b[43m \u001b[49m\u001b[43mtujuan\u001b[49m\u001b[43m)\u001b[49m)\n",
      "Cell \u001b[1;32mIn[2], line 21\u001b[0m, in \u001b[0;36mbfs_lintasan_terpendek\u001b[1;34m(peta, mulai, tujuan)\u001b[0m\n\u001b[0;32m     18\u001b[0m node \u001b[38;5;241m=\u001b[39m jalur[\u001b[38;5;241m-\u001b[39m\u001b[38;5;241m1\u001b[39m]\n\u001b[0;32m     20\u001b[0m \u001b[38;5;28;01mif\u001b[39;00m node \u001b[38;5;129;01mnot\u001b[39;00m \u001b[38;5;129;01min\u001b[39;00m explored : \n\u001b[1;32m---> 21\u001b[0m     neighbours \u001b[38;5;241m=\u001b[39m \u001b[43mpeta\u001b[49m\u001b[43m \u001b[49m\u001b[43m[\u001b[49m\u001b[43mnode\u001b[49m\u001b[43m]\u001b[49m\n\u001b[0;32m     23\u001b[0m     \u001b[38;5;28;01mfor\u001b[39;00m neighbour \u001b[38;5;129;01min\u001b[39;00m neighbours : \n\u001b[0;32m     24\u001b[0m         jalur_baru \u001b[38;5;241m=\u001b[39m \u001b[38;5;28mlist\u001b[39m(jalur)\n",
      "\u001b[1;31mKeyError\u001b[0m: 'н'"
     ]
    }
   ],
   "source": [
    "peta = {    'A': set (['B', 'н']),\n",
    "            'B': set (['A', 'C', 'H']),\n",
    "            'C': set (['B', 'D', 'E']),\n",
    "            'D': set (['C', 'E', 'F', 'G', 'H']),\n",
    "            'E': set (['C', 'D']),\n",
    "            'F': set (['D','G']),\n",
    "            'G': set (['F', 'D', 'H']),\n",
    "            'H': set (['A', 'B', 'D', 'G']) }\n",
    "def bfs_lintasan_terpendek (peta, mulai, tujuan):\n",
    "    explored = []\n",
    "    queue = [[mulai]]\n",
    "\n",
    "    if mulai == tujuan :\n",
    "        return \"Awal adalah Tujuan\"\n",
    "    \n",
    "    while queue :\n",
    "        jalur = queue.pop(0)\n",
    "        node = jalur[-1]\n",
    "\n",
    "        if node not in explored : \n",
    "            neighbours = peta [node]\n",
    "            \n",
    "            for neighbour in neighbours : \n",
    "                jalur_baru = list(jalur)\n",
    "                jalur_baru.append(neighbour)\n",
    "                queue.append(jalur_baru)\n",
    "\n",
    "                if neighbour == tujuan: \n",
    "                    return jalur_baru\n",
    "                \n",
    "            explored.append(node)\n",
    "\n",
    "    return \"Mohon maaf node yang kalian pilih tidak ada\"\n",
    "\n",
    "mulai = input(\"Masukkan awal : \")\n",
    "tujuan = input(\"Masukkan akhir: \")\n",
    "\n",
    "print(bfs_lintasan_terpendek (peta, mulai, tujuan))"
   ]
  }
 ],
 "metadata": {
  "kernelspec": {
   "display_name": "Python 3",
   "language": "python",
   "name": "python3"
  },
  "language_info": {
   "codemirror_mode": {
    "name": "ipython",
    "version": 3
   },
   "file_extension": ".py",
   "mimetype": "text/x-python",
   "name": "python",
   "nbconvert_exporter": "python",
   "pygments_lexer": "ipython3",
   "version": "3.11.5"
  }
 },
 "nbformat": 4,
 "nbformat_minor": 2
}
